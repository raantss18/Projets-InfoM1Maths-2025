{
 "cells": [
  {
   "cell_type": "markdown",
   "id": "2cc1e5b0-433e-4bbb-8044-10204a7d9edd",
   "metadata": {},
   "source": [
    "# Constantes et algorithme PSLQ"
   ]
  },
  {
   "cell_type": "markdown",
   "id": "f1ca12fb-4d5b-41d7-b07a-d05c67004f81",
   "metadata": {},
   "source": [
    "$I=\\int_0^{\\pi/2} \\ln(\\sin x)\\,dx$\n"
   ]
  },
  {
   "cell_type": "markdown",
   "id": "43073fb8-1333-4eee-96cb-b55928ddc37b",
   "metadata": {},
   "source": [
    "1-Évaluation de  I à 50, 100 puis 200 décimales"
   ]
  },
  {
   "cell_type": "code",
   "execution_count": 2,
   "id": "daf1bbb5-d13a-452a-90f0-255a6b621ecf",
   "metadata": {},
   "outputs": [
    {
     "name": "stdout",
     "output_type": "stream",
     "text": [
      "========================================\n",
      "Précision : 50 décimales\n",
      "I = -1.08879304515180106525034444911880697366929185018464418410171727866266177123169161860787420487291456006980048322252751413880228308073139231737513910047709941864013671875\n",
      "Erreur estimée : 9.9999999999999999999999999999999999999999999999999999999964114613314089819853693519360754690685289495859954004249822465351165175435147403994803629092751093742546268920557952792944196062538733022649421e-100\n",
      "========================================\n",
      "Précision : 100 décimales\n",
      "I = -1.0887930451518010652503444491188069736692918501846431471628976265971542745883709932151644808053315125281176720529077047881424588474564060205364116419322006978512554967638271351018526362094436650382873\n",
      "Erreur estimée : 1.0000000000000000000000000000000000000000000000000000000000000000000000000000000000000000000000000000000000030857865545825071101585216694835384322115591759318743441532569405196911828224785339650684263e-190\n",
      "========================================\n",
      "Précision : 200 décimales\n",
      "I = -1.0887930451518010652503444491188069736692918501846431471628976265971542745883709932151644808053315125288070670466784663890382752183018855017480157396380332083543063989029000855942418285423109635914454\n",
      "Erreur estimée : 1.0e-390\n",
      "========================================\n"
     ]
    }
   ],
   "source": [
    "\n",
    "from mpmath import mp, pi, quad,zeta,ln,pslq\n",
    "def calculer_I(dps):\n",
    "    mp.dps = dps  # Définit la précision en décimales\n",
    "    # Définition de la fonction à intégrer\n",
    "    fonction = lambda x: mp.log(mp.sin(x))\n",
    "    # Calcul de l'intégrale avec quad (méthode adaptative)\n",
    "    I,erreur_estimee = quad(fonction, [0, pi/2], error=True)\n",
    "    return I,erreur_estimee\n",
    "precisions=[50,100,200]\n",
    "I_list=[]\n",
    "error_list=[]\n",
    "for dps in precisions:\n",
    "    I,erreur_estimee = calculer_I(dps)\n",
    "    I_list.append(I)\n",
    "    error_list.append(erreur_estimee)\n",
    "for dps, I, err in zip(precisions, I_list, error_list):\n",
    "    print(\"=\"*40)\n",
    "    print(f\"Précision : {dps} décimales\")\n",
    "    print(f\"I = {I}\")\n",
    "    print(f\"Erreur estimée : {err}\")\n",
    "print(\"=\"*40)\n",
    "\n"
   ]
  },
  {
   "cell_type": "markdown",
   "id": "2445246b-378f-4f09-bf32-51c7c4a49c9c",
   "metadata": {},
   "source": [
    "2- Application de  pslq au vecteur $(I,\\, \\zeta(2),\\, \\ln^2 2,\\, \\ln 2)$."
   ]
  },
  {
   "cell_type": "code",
   "execution_count": 3,
   "id": "6383a19f-37ad-4dbe-b045-a2ac9c6470d8",
   "metadata": {},
   "outputs": [
    {
     "name": "stdout",
     "output_type": "stream",
     "text": [
      "========================================\n",
      "Précision : 50 décimales\n",
      "Relation PSLQ trouvée : None\n",
      "========================================\n",
      "Précision : 100 décimales\n",
      "Relation PSLQ trouvée : None\n",
      "========================================\n",
      "Précision : 200 décimales\n",
      "Relation PSLQ trouvée : None\n",
      "========================================\n"
     ]
    }
   ],
   "source": [
    "for dps, I in zip(precisions, I_list):\n",
    "    mp.dps = dps  # Assure la même précision pour toutes les constantes\n",
    "    v = [I, zeta(2),ln(2)**2,ln(2)]\n",
    "    relation = pslq(v)\n",
    "    print(\"=\"*40)\n",
    "    print(f\"Précision : {dps} décimales\")\n",
    "    print(f\"Relation PSLQ trouvée : {relation}\")\n",
    "print(\"=\"*40)\n",
    "\n"
   ]
  },
  {
   "cell_type": "markdown",
   "id": "0d3b9045-f8fc-4dd1-af89-167d00cd9cbf",
   "metadata": {},
   "source": [
    "3. Détection d une relation rationnelle et verification à haute précision."
   ]
  },
  {
   "cell_type": "code",
   "execution_count": 4,
   "id": "2bc7d00c-0dbf-401f-9c5c-443b3e045610",
   "metadata": {},
   "outputs": [
    {
     "name": "stdout",
     "output_type": "stream",
     "text": [
      "Relation PSLQ trouvée : [2, 1]\n",
      "Vérification : 4.756904237279927229282626194529993594214579997738038805083492763006434670165707007942942766475568324684953771298468334920741309274863105286250075672649094668649497870170543033042673326038324864563271285527970852997118459804753102549196968754413485736709749351617106336113899348484812350957532125197616674772081447377284562132350377184059737837768747816011999990810110837459212207011332431484737890611848693181632463578771842753886274587549874489116178051152089111416024396582424874052112979177993372386032710524934562274222404603125747896240627742842340646017702572943377640259533137582788554470522344224083613550634198228509017134566774885129388204699416389714427496735243048658231322850852510194838599662360530864177551653402482461999433254677768828123998811843187038869034680109388683776311729618939104202994704856870058723881360482323600971248119686183969762699645212347471692138769337141700553450986018810972731122021002572360059718236178873807746344668757835598117817032900809691359088878276706e-1001\n"
     ]
    }
   ],
   "source": [
    "\n",
    "mp.dps = 1000 # haute precision\n",
    "I = quad(lambda x: mp.log(mp.sin(x)), [0, pi/2])\n",
    "pi_ln2 = pi * ln(2)\n",
    "vecteur = [I, pi_ln2]\n",
    "relation = pslq(vecteur)\n",
    "print(\"Relation PSLQ trouvée :\", relation)\n",
    "\n",
    "if relation:\n",
    "    # Recalcule tout à la même précision, juste avant la vérification\n",
    "    test = relation[0]*I + relation[1]*pi_ln2\n",
    "    print(\"Vérification :\", test)\n",
    "\n"
   ]
  },
  {
   "cell_type": "markdown",
   "id": "e293e612-f8f5-4422-a24d-07b39fbd67fc",
   "metadata": {
    "scrolled": true
   },
   "source": [
    "4-Étude de la stabilité de PSLQ quand la précision varie.\n",
    "\n"
   ]
  },
  {
   "cell_type": "code",
   "execution_count": 6,
   "id": "a5d6f98a-d191-4d05-86fc-2f375ffcc73e",
   "metadata": {},
   "outputs": [
    {
     "name": "stdout",
     "output_type": "stream",
     "text": [
      "Précision | Relation PSLQ trouvée           | Résidu\n",
      "----------------------------------------------------------------------\n",
      "80        | [-2, -1]                       | 0.0\n",
      "100       | [-2, -1]                       | 0.0\n",
      "300       | [2, 1]                         | 3.73305447401287551596035817889526867846836578548683209848685735918386764390310253781776130839152440943837995972129697049686195008541612957936608326881572302493764266455330060109598030394360732604440196318506045247296205005918373516322071308450166041524279351541770592447787925691464383688807065164177e-301\n",
      "400       | [-2, -1]                       | 0.0\n",
      "500       | [-2, -1]                       | 0.0\n",
      "600       | [-2, -1]                       | 5.57427828237901867236876511665847826934982639533144871465183566687890486618001114482223280051186424388196101579357127720717075351807253524805298612769474359110496681107859028380653383896954203126275748079486230220200386374218945498456362767450540846607122737504949726313989833476975141814005073398922119647303126155044426029066588849008446066360509738639897160966993124842794010131113348493106054231413690077034987015109426367562897066948775492247160060616640409084065070140932266802354153155236424424163569460828364300950062611191188822215870886376119847453612429513637758986284536192581709170783788e-601\n",
      "700       | [2, 1]                         | 3.185664896128917564247712295257493897328444662706433886800515449439683759895966984270948670709526719456954693242072905120974370298476418774367121245610697933400646154689366672114682318626717509543950185850078441368746100751641769788130828731618058255643682416266570353650830995785550548663873339313930108185571205384524935694816176299236796759455364514457615612273479065256868714679726564574360605733351217985817117822647185132273278999560324745121528671411224433552180916326528890958625304238272335741607261268945270089011553581360739286125055268355246240394465284976423696960377308234474348603048401433917729760180145338909077438700940582629362396157523056884152607570985891758464386019073971463575e-701\n"
     ]
    }
   ],
   "source": [
    "\n",
    "\n",
    "# Liste des précisions à tester \n",
    "precisions = [ 80, 100,300, 400, 500,600,700]\n",
    "\n",
    "print(\"Précision | Relation PSLQ trouvée           | Résidu\")\n",
    "print(\"-\"*70)\n",
    "for dps in precisions:\n",
    "    mp.dps = dps\n",
    "    # Calcul de I à la précision courante\n",
    "    I = quad(lambda x: mp.log(mp.sin(x)), [0, pi/2])\n",
    "    pi_ln2 = pi * ln(2)\n",
    "    vecteur = [I, pi_ln2]\n",
    "    relation = pslq(vecteur)\n",
    "    if relation:\n",
    "        residu = relation[0]*I + relation[1]*pi_ln2\n",
    "    else:\n",
    "        residu = \"Aucune\"\n",
    "    print(f\"{dps:<9} | {str(relation):<30} | {residu}\")\n"
   ]
  },
  {
   "cell_type": "markdown",
   "id": "46802377-7672-4f93-81ba-a5e3a68ed895",
   "metadata": {},
   "source": [
    "5-Proposer une conjecture fermée pour I(dans le rapport Latex)"
   ]
  },
  {
   "cell_type": "code",
   "execution_count": null,
   "id": "80b5be27-3f47-46a9-bf0b-7bbfe6af3768",
   "metadata": {},
   "outputs": [],
   "source": []
  }
 ],
 "metadata": {
  "kernelspec": {
   "display_name": "Python 3 (ipykernel)",
   "language": "python",
   "name": "python3"
  },
  "language_info": {
   "codemirror_mode": {
    "name": "ipython",
    "version": 3
   },
   "file_extension": ".py",
   "mimetype": "text/x-python",
   "name": "python",
   "nbconvert_exporter": "python",
   "pygments_lexer": "ipython3",
   "version": "3.12.7"
  }
 },
 "nbformat": 4,
 "nbformat_minor": 5
}
