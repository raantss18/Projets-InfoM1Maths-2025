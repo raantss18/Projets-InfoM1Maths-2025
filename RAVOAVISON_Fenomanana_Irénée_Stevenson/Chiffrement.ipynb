{
 "cells": [
  {
   "cell_type": "code",
   "execution_count": 1,
   "id": "8261943f",
   "metadata": {},
   "outputs": [],
   "source": [
    "def cesar(texte,decalage):  #Fonction qui chiffre un texte en utilisant le chiffrement de César\n",
    "    alphabet='abcdefghijklmnopqrstuvwxyz'  # alphabet\n",
    "    texte_cesar =''  #On initialise la chaine de texte chiffré par le chiffrement\n",
    "    for caractere in texte: # On parcourt chacque caractère du texte\n",
    "        if caractere.islower(): # Verifie si le caractère est une lettre minuscule\n",
    "            i=alphabet.index(caractere) # Trouve l'indice de la lettre dans l'alphabet\n",
    "            i_cesar=(i+decalage)%26  # Faire le décalage dans la liste alphabetique\n",
    "            texte_cesar += alphabet[i_cesar]  #ajoute la lettre chiffré à la chaine de texte chiffré\n",
    "        elif caractere.isupper(): # Verifie si le caractère est une lettre majuscule\n",
    "            i=alphabet.index(caractere.lower()) #convertit la lettre en minuscule et trouve l'indice dans l'alphabet\n",
    "            i_cesar=(i+decalage)%26  # faire le décalage dans la liste alphabetique\n",
    "            texte_cesar +=alphabet[i_cesar].upper() #reconvertit la lettre en majuscule et l'ajoute à la chaine de \n",
    "                                                   #texte chiffré\n",
    "        else:\n",
    "            texte_cesar += caractere #si le caractère n' est pas une lettre (par exemple:espace ou ponctuation)\n",
    "                            #le caractère est ajouté directement au texte chiffrré\n",
    "    return texte_cesar \n",
    "            \n",
    "def inverse(texte): #Fonction qui chiffre un texte en inversant la liste alphabetique\n",
    "    alphabet = 'abcdefghijklmnopqrstuvwxyz' #alphabet\n",
    "    alphabet_inverse='zyxwvutsrqponmlkjihgfedcba' #alphabet inversé\n",
    "  \n",
    "    texte_inverse=''\n",
    "    for caractere in texte:\n",
    "        if caractere.islower():\n",
    "            i = alphabet.index(caractere) \n",
    "            texte_inverse += alphabet_inverse[i] # trouve la lettre qui correspond à l'indice dans l'alphabet \n",
    "                                                #inversé et l' ajoute au texte chiffré\n",
    "            \n",
    "        elif caractere.isupper():\n",
    "            i=alphabet.index(caractere.lower()) # convertit la lettre en minuscule et trouve l'indice \n",
    "            texte_inverse += alphabet_inverse[i].upper() # trouve la lettre qui correspond à l'indice dans \n",
    "                                    # l'alphabet inversé,le rconvertit en majuscule et l'ajoute au texte chiffré  \n",
    "            \n",
    "        else:\n",
    "            texte_inverse += caractere\n",
    "    return texte_inverse\n",
    "def chiffrer(texte):  # cette fonction est la composé des deux fonctions précédentes\n",
    "    texte_inverse= inverse(texte) \n",
    "    texte_chiffre=cesar(texte_inverse,4) #decaler la position de chaque lettre avec \"décalage\"= 4\n",
    "    return texte_chiffre  # retourne le texte chiffré\n",
    "def dechiffrer(texte):  # cette fonction dechiffre un texte chiffré par la fonction \"chiffrer\"\n",
    "    texte_cesar=cesar(texte,-4) \n",
    "    texte_dechiffre=inverse(texte_cesar) # l' inverse de la fonction inverse est lui meme\n",
    "    return texte_dechiffre  #retourne le texte dechiffré   \n"
   ]
  },
  {
   "cell_type": "code",
   "execution_count": 4,
   "id": "feec2522",
   "metadata": {},
   "outputs": [
    {
     "name": "stdout",
     "output_type": "stream",
     "text": [
      "Texte original: Bonjour,Comment allez vous?\n",
      "Texte chiffré: Cpqupjm,Bprrzqk dssze ipjl?\n",
      "Texte dechiffré: Bonjour,Comment allez vous?\n"
     ]
    }
   ],
   "source": [
    "#Test\n",
    "texte_original = \"Bonjour,Comment allez vous?\"\n",
    "texte_chiffre = chiffrer(texte_original)\n",
    "texte_dechiffre = dechiffrer(texte_chiffre)\n",
    "print(\"Texte original:\",texte_original)\n",
    "print(\"Texte chiffré:\",texte_chiffre)\n",
    "print(\"Texte dechiffré:\",texte_dechiffre)"
   ]
  },
  {
   "cell_type": "code",
   "execution_count": null,
   "id": "1d4e2976",
   "metadata": {},
   "outputs": [],
   "source": []
  }
 ],
 "metadata": {
  "kernelspec": {
   "display_name": "Python 3 (ipykernel)",
   "language": "python",
   "name": "python3"
  },
  "language_info": {
   "codemirror_mode": {
    "name": "ipython",
    "version": 3
   },
   "file_extension": ".py",
   "mimetype": "text/x-python",
   "name": "python",
   "nbconvert_exporter": "python",
   "pygments_lexer": "ipython3",
   "version": "3.12.7"
  }
 },
 "nbformat": 4,
 "nbformat_minor": 5
}
